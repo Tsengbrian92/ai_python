{
 "cells": [
  {
   "cell_type": "code",
   "execution_count": 12,
   "id": "c75500d8-e48b-4622-a243-4ed99a3efb8f",
   "metadata": {},
   "outputs": [
    {
     "name": "stdout",
     "output_type": "stream",
     "text": [
      "Requirement already satisfied: imutils in c:\\users\\user\\anaconda3\\lib\\site-packages (0.5.4)\n",
      "Requirement already satisfied: opencv-python in c:\\users\\user\\anaconda3\\lib\\site-packages (4.10.0.84)\n",
      "Requirement already satisfied: numpy>=1.21.2 in c:\\users\\user\\anaconda3\\lib\\site-packages (from opencv-python) (1.26.4)\n",
      "Requirement already satisfied: pytesseract in c:\\users\\user\\anaconda3\\lib\\site-packages (0.3.13)\n",
      "Requirement already satisfied: packaging>=21.3 in c:\\users\\user\\anaconda3\\lib\\site-packages (from pytesseract) (23.2)\n",
      "Requirement already satisfied: Pillow>=8.0.0 in c:\\users\\user\\anaconda3\\lib\\site-packages (from pytesseract) (10.3.0)\n"
     ]
    }
   ],
   "source": [
    "import numpy as np\n",
    "import cv2\n",
    "!pip install imutils opencv-python\n",
    "import imutils\n",
    "!pip install pytesseract\n",
    "import pytesseract\n",
    "from PIL import Image"
   ]
  },
  {
   "cell_type": "code",
   "execution_count": 13,
   "id": "6fb3bd57-2a9b-4482-9c32-6913f6246653",
   "metadata": {},
   "outputs": [],
   "source": [
    "pytesseract.pytesseract.tesseract_cmd=r'C:\\Program Files\\Tesseract-OCR\\tesseract.exe'\n",
    "img=cv2.imread(r'C:\\Users\\User\\R.jpg',cv2.IMREAD_COLOR)\n",
    "img=imutils.resize(img,width=500)"
   ]
  },
  {
   "cell_type": "code",
   "execution_count": 14,
   "id": "bb2d3a90-5c03-4db7-8ef9-fcd8aeaea7d2",
   "metadata": {},
   "outputs": [],
   "source": [
    "gray=cv2.cvtColor(img,cv2.COLOR_RGB2GRAY)\n",
    "gray=cv2.bilateralFilter(gray,11,17,17)\n",
    "kernel_size=3\n",
    "blur_gray=cv2.GaussianBlur(gray,(kernel_size,kernel_size),0)\n",
    "edged=cv2.Canny(blur_gray,20,120)"
   ]
  },
  {
   "cell_type": "code",
   "execution_count": 15,
   "id": "73a6dc0a-64d9-4264-b3e3-6abb03cd0d01",
   "metadata": {},
   "outputs": [
    {
     "data": {
      "text/plain": [
       "-1"
      ]
     },
     "execution_count": 15,
     "metadata": {},
     "output_type": "execute_result"
    }
   ],
   "source": [
    "cnts,new=cv2.findContours(edged.copy(),cv2.RETR_LIST,cv2.CHAIN_APPROX_SIMPLE)\n",
    "img1=img.copy()\n",
    "cv2.drawContours(img1,cnts,-1,(0,255,0),2)\n",
    "cv2.imshow(\"img1\",img1)\n",
    "cv2.waitKey(0)\n"
   ]
  },
  {
   "cell_type": "code",
   "execution_count": 16,
   "id": "dfb6412d-7028-4ad3-a8b8-e20de3ff9986",
   "metadata": {},
   "outputs": [],
   "source": [
    "cnts=sorted(cnts,key=cv2.contourArea,reverse=True)[:30]\n",
    "screenCnt=None\n",
    "img2=img.copy()\n",
    "cv2.drawContours(img2,cnts,-1,(0,255,0),2)\n",
    "cv2.imshow(\"img2\",img2)\n",
    "cv2.waitKey(0)\n",
    "count=0"
   ]
  },
  {
   "cell_type": "code",
   "execution_count": 17,
   "id": "84852f7a-cc82-4e1c-8b14-3880551d6f37",
   "metadata": {},
   "outputs": [],
   "source": [
    "idx=7\n",
    "for c in cnts:\n",
    "    peri=cv2.arcLength(c,True)\n",
    "    approx=cv2.approxPolyDP(c,0.018*peri,True)\n",
    "    if len(approx)==4:\n",
    "        screenCnt=approx\n",
    "        x,y,w,h=cv2.boundingRect(c)\n",
    "        new_img = img[y:y+h, x:x+w]\n",
    "        cv2.imwrite('./'+str(idx)+'.png',new_img)\n",
    "        idx+=1\n",
    "        break"
   ]
  },
  {
   "cell_type": "code",
   "execution_count": 18,
   "id": "01d15842-33a1-4a04-9195-8874fb6034d7",
   "metadata": {},
   "outputs": [
    {
     "name": "stdout",
     "output_type": "stream",
     "text": [
      "Number is  7N2240\n",
      "\n"
     ]
    }
   ],
   "source": [
    "cv2.drawContours(img,[screenCnt],-1,(0,255,0),1)\n",
    "cv2.imshow(\"Final image with plate detected\",img)\n",
    "cv2.waitKey(0)\n",
    "Cropped_loc='./7.png'\n",
    "cv2.imshow(\"cropped\",cv2.imread(Cropped_loc))\n",
    "text=pytesseract.image_to_string(Cropped_loc,lang='eng')\n",
    "print(\"Number is \",text)\n",
    "cv2.waitKey(0)\n",
    "cv2.destroyAllWindows()"
   ]
  },
  {
   "cell_type": "code",
   "execution_count": null,
   "id": "cd11115c-db93-4f66-9ec4-adbfeb8dab93",
   "metadata": {},
   "outputs": [],
   "source": [
    "    "
   ]
  }
 ],
 "metadata": {
  "kernelspec": {
   "display_name": "Python 3 (ipykernel)",
   "language": "python",
   "name": "python3"
  },
  "language_info": {
   "codemirror_mode": {
    "name": "ipython",
    "version": 3
   },
   "file_extension": ".py",
   "mimetype": "text/x-python",
   "name": "python",
   "nbconvert_exporter": "python",
   "pygments_lexer": "ipython3",
   "version": "3.12.4"
  }
 },
 "nbformat": 4,
 "nbformat_minor": 5
}

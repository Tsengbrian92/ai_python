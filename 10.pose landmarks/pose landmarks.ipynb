{
 "cells": [
  {
   "cell_type": "code",
   "execution_count": 1,
   "id": "2553f535-329c-4348-9f45-75383056ed6b",
   "metadata": {},
   "outputs": [
    {
     "name": "stdout",
     "output_type": "stream",
     "text": [
      "Requirement already satisfied: mediapipe in ./myenv/lib/python3.12/site-packages (0.10.18)\n",
      "Requirement already satisfied: absl-py in ./myenv/lib/python3.12/site-packages (from mediapipe) (2.1.0)\n",
      "Requirement already satisfied: attrs>=19.1.0 in ./myenv/lib/python3.12/site-packages (from mediapipe) (24.2.0)\n",
      "Requirement already satisfied: flatbuffers>=2.0 in ./myenv/lib/python3.12/site-packages (from mediapipe) (24.3.25)\n",
      "Requirement already satisfied: jax in ./myenv/lib/python3.12/site-packages (from mediapipe) (0.4.35)\n",
      "Requirement already satisfied: jaxlib in ./myenv/lib/python3.12/site-packages (from mediapipe) (0.4.35)\n",
      "Requirement already satisfied: matplotlib in ./myenv/lib/python3.12/site-packages (from mediapipe) (3.9.2)\n",
      "Requirement already satisfied: numpy<2 in ./myenv/lib/python3.12/site-packages (from mediapipe) (1.26.4)\n",
      "Requirement already satisfied: opencv-contrib-python in ./myenv/lib/python3.12/site-packages (from mediapipe) (4.10.0.84)\n",
      "Requirement already satisfied: protobuf<5,>=4.25.3 in ./myenv/lib/python3.12/site-packages (from mediapipe) (4.25.5)\n",
      "Requirement already satisfied: sounddevice>=0.4.4 in ./myenv/lib/python3.12/site-packages (from mediapipe) (0.5.1)\n",
      "Requirement already satisfied: sentencepiece in ./myenv/lib/python3.12/site-packages (from mediapipe) (0.2.0)\n",
      "Requirement already satisfied: CFFI>=1.0 in ./myenv/lib/python3.12/site-packages (from sounddevice>=0.4.4->mediapipe) (1.17.1)\n",
      "Requirement already satisfied: ml-dtypes>=0.4.0 in ./myenv/lib/python3.12/site-packages (from jax->mediapipe) (0.5.0)\n",
      "Requirement already satisfied: opt-einsum in ./myenv/lib/python3.12/site-packages (from jax->mediapipe) (3.4.0)\n",
      "Requirement already satisfied: scipy>=1.10 in ./myenv/lib/python3.12/site-packages (from jax->mediapipe) (1.14.1)\n",
      "Requirement already satisfied: contourpy>=1.0.1 in ./myenv/lib/python3.12/site-packages (from matplotlib->mediapipe) (1.3.1)\n",
      "Requirement already satisfied: cycler>=0.10 in ./myenv/lib/python3.12/site-packages (from matplotlib->mediapipe) (0.12.1)\n",
      "Requirement already satisfied: fonttools>=4.22.0 in ./myenv/lib/python3.12/site-packages (from matplotlib->mediapipe) (4.55.0)\n",
      "Requirement already satisfied: kiwisolver>=1.3.1 in ./myenv/lib/python3.12/site-packages (from matplotlib->mediapipe) (1.4.7)\n",
      "Requirement already satisfied: packaging>=20.0 in ./myenv/lib/python3.12/site-packages (from matplotlib->mediapipe) (24.2)\n",
      "Requirement already satisfied: pillow>=8 in ./myenv/lib/python3.12/site-packages (from matplotlib->mediapipe) (11.0.0)\n",
      "Requirement already satisfied: pyparsing>=2.3.1 in ./myenv/lib/python3.12/site-packages (from matplotlib->mediapipe) (3.2.0)\n",
      "Requirement already satisfied: python-dateutil>=2.7 in ./myenv/lib/python3.12/site-packages (from matplotlib->mediapipe) (2.9.0.post0)\n",
      "Requirement already satisfied: pycparser in ./myenv/lib/python3.12/site-packages (from CFFI>=1.0->sounddevice>=0.4.4->mediapipe) (2.22)\n",
      "Requirement already satisfied: six>=1.5 in ./myenv/lib/python3.12/site-packages (from python-dateutil>=2.7->matplotlib->mediapipe) (1.16.0)\n"
     ]
    }
   ],
   "source": [
    "!pip install mediapipe"
   ]
  },
  {
   "cell_type": "code",
   "execution_count": null,
   "id": "47eb16cc-76b7-4f99-8845-ab8664b83d8a",
   "metadata": {},
   "outputs": [],
   "source": [
    "import cv2 \n",
    "import mediapipe as mp\n",
    "import time"
   ]
  },
  {
   "cell_type": "code",
   "execution_count": null,
   "id": "a2d04636-6dbd-4504-91ed-6c098ff0734e",
   "metadata": {},
   "outputs": [],
   "source": [
    "mpDraw=mp.solutions.drawing_utils\n",
    "mpPose = mp.solutions.pose\n",
    "pose=mpPose.Pose()\n",
    "cap=cv2.VideoCapture(r'/home/brian/下載/李珠珢.mp4')\n",
    "pT=0 "
   ]
  },
  {
   "cell_type": "code",
   "execution_count": null,
   "id": "2f8544a4-67aa-494c-9852-5bb4eb0a1953",
   "metadata": {},
   "outputs": [],
   "source": [
    "while True:\n",
    "    success,img = cap.read()\n",
    "    imgRGB = cv2.cvtColor(img, cv2.COLOR_BGR2RGB)\n",
    "    results = pose.process(imgRGB)\n",
    "    if results.pose_landmarks:\n",
    "        mpDraw.draw_landmarks(img, results.pose_landmarks, mpPose.POSE_CONNECTIONS)\n",
    "        for id, landmark in enumerate(results.pose_landmarks.landmark):\n",
    "            h, w, c = img.shape  \n",
    "            cx, cy = int(landmark.x * w), int(landmark.y * h)  \n",
    "            cv2.circle(img, (cx, cy), 5, (255, 0, 0), cv2.FILLED)  \n",
    "    cT = time.time()  \n",
    "    fps = 1 / (cT - pT)  \n",
    "    pT = cT  \n",
    "    cv2.putText(img, str(int(fps)), (10, 70), cv2.FONT_HERSHEY_PLAIN, 3, (255, 0, 255), 3)\n",
    "    cv2.imshow(\"Image\", img)\n",
    "    cv2.waitKey() "
   ]
  },
  {
   "cell_type": "code",
   "execution_count": null,
   "id": "2fdcc981-5247-4349-9a63-8fd1900d0ee5",
   "metadata": {},
   "outputs": [],
   "source": [
    "cv2.destroyAllWindows()\n",
    "cap.release()"
   ]
  },
  {
   "cell_type": "code",
   "execution_count": null,
   "id": "e7760419-9925-424e-b1f2-9abf8aedf712",
   "metadata": {},
   "outputs": [],
   "source": []
  }
 ],
 "metadata": {
  "kernelspec": {
   "display_name": "Python 3 (ipykernel)",
   "language": "python",
   "name": "python3"
  },
  "language_info": {
   "codemirror_mode": {
    "name": "ipython",
    "version": 3
   },
   "file_extension": ".py",
   "mimetype": "text/x-python",
   "name": "python",
   "nbconvert_exporter": "python",
   "pygments_lexer": "ipython3",
   "version": "3.12.3"
  }
 },
 "nbformat": 4,
 "nbformat_minor": 5
}

{
 "cells": [
  {
   "cell_type": "code",
   "execution_count": 17,
   "id": "981cd93f-34bb-41f2-96fe-177cb76230e5",
   "metadata": {},
   "outputs": [
    {
     "name": "stdout",
     "output_type": "stream",
     "text": [
      "Requirement already satisfied: newspaper3k in c:\\users\\user\\anaconda3\\lib\\site-packages (0.2.8)\n",
      "Requirement already satisfied: beautifulsoup4>=4.4.1 in c:\\users\\user\\anaconda3\\lib\\site-packages (from newspaper3k) (4.12.3)\n",
      "Requirement already satisfied: Pillow>=3.3.0 in c:\\users\\user\\anaconda3\\lib\\site-packages (from newspaper3k) (10.3.0)\n",
      "Requirement already satisfied: PyYAML>=3.11 in c:\\users\\user\\anaconda3\\lib\\site-packages (from newspaper3k) (6.0.1)\n",
      "Requirement already satisfied: cssselect>=0.9.2 in c:\\users\\user\\anaconda3\\lib\\site-packages (from newspaper3k) (1.2.0)\n",
      "Requirement already satisfied: lxml>=3.6.0 in c:\\users\\user\\anaconda3\\lib\\site-packages (from newspaper3k) (5.2.1)\n",
      "Requirement already satisfied: nltk>=3.2.1 in c:\\users\\user\\anaconda3\\lib\\site-packages (from newspaper3k) (3.8.1)\n",
      "Requirement already satisfied: requests>=2.10.0 in c:\\users\\user\\anaconda3\\lib\\site-packages (from newspaper3k) (2.32.2)\n",
      "Requirement already satisfied: feedparser>=5.2.1 in c:\\users\\user\\anaconda3\\lib\\site-packages (from newspaper3k) (6.0.11)\n",
      "Requirement already satisfied: tldextract>=2.0.1 in c:\\users\\user\\anaconda3\\lib\\site-packages (from newspaper3k) (3.2.0)\n",
      "Requirement already satisfied: feedfinder2>=0.0.4 in c:\\users\\user\\anaconda3\\lib\\site-packages (from newspaper3k) (0.0.4)\n",
      "Requirement already satisfied: jieba3k>=0.35.1 in c:\\users\\user\\anaconda3\\lib\\site-packages (from newspaper3k) (0.35.1)\n",
      "Requirement already satisfied: python-dateutil>=2.5.3 in c:\\users\\user\\anaconda3\\lib\\site-packages (from newspaper3k) (2.9.0.post0)\n",
      "Requirement already satisfied: tinysegmenter==0.3 in c:\\users\\user\\anaconda3\\lib\\site-packages (from newspaper3k) (0.3)\n",
      "Requirement already satisfied: soupsieve>1.2 in c:\\users\\user\\anaconda3\\lib\\site-packages (from beautifulsoup4>=4.4.1->newspaper3k) (2.5)\n",
      "Requirement already satisfied: six in c:\\users\\user\\anaconda3\\lib\\site-packages (from feedfinder2>=0.0.4->newspaper3k) (1.16.0)\n",
      "Requirement already satisfied: sgmllib3k in c:\\users\\user\\anaconda3\\lib\\site-packages (from feedparser>=5.2.1->newspaper3k) (1.0.0)\n",
      "Requirement already satisfied: click in c:\\users\\user\\anaconda3\\lib\\site-packages (from nltk>=3.2.1->newspaper3k) (8.1.7)\n",
      "Requirement already satisfied: joblib in c:\\users\\user\\anaconda3\\lib\\site-packages (from nltk>=3.2.1->newspaper3k) (1.4.2)\n",
      "Requirement already satisfied: regex>=2021.8.3 in c:\\users\\user\\anaconda3\\lib\\site-packages (from nltk>=3.2.1->newspaper3k) (2023.10.3)\n",
      "Requirement already satisfied: tqdm in c:\\users\\user\\anaconda3\\lib\\site-packages (from nltk>=3.2.1->newspaper3k) (4.66.4)\n",
      "Requirement already satisfied: charset-normalizer<4,>=2 in c:\\users\\user\\anaconda3\\lib\\site-packages (from requests>=2.10.0->newspaper3k) (2.0.4)\n",
      "Requirement already satisfied: idna<4,>=2.5 in c:\\users\\user\\anaconda3\\lib\\site-packages (from requests>=2.10.0->newspaper3k) (3.7)\n",
      "Requirement already satisfied: urllib3<3,>=1.21.1 in c:\\users\\user\\anaconda3\\lib\\site-packages (from requests>=2.10.0->newspaper3k) (2.2.2)\n",
      "Requirement already satisfied: certifi>=2017.4.17 in c:\\users\\user\\anaconda3\\lib\\site-packages (from requests>=2.10.0->newspaper3k) (2024.8.30)\n",
      "Requirement already satisfied: requests-file>=1.4 in c:\\users\\user\\anaconda3\\lib\\site-packages (from tldextract>=2.0.1->newspaper3k) (1.5.1)\n",
      "Requirement already satisfied: filelock>=3.0.8 in c:\\users\\user\\anaconda3\\lib\\site-packages (from tldextract>=2.0.1->newspaper3k) (3.13.1)\n",
      "Requirement already satisfied: colorama in c:\\users\\user\\anaconda3\\lib\\site-packages (from click->nltk>=3.2.1->newspaper3k) (0.4.6)\n",
      "Requirement already satisfied: lxml in c:\\users\\user\\anaconda3\\lib\\site-packages (5.2.1)\n",
      "Requirement already satisfied: lxml_html_clean in c:\\users\\user\\anaconda3\\lib\\site-packages (0.3.1)\n",
      "Requirement already satisfied: lxml in c:\\users\\user\\anaconda3\\lib\\site-packages (from lxml_html_clean) (5.2.1)\n"
     ]
    },
    {
     "name": "stderr",
     "output_type": "stream",
     "text": [
      "[nltk_data] Downloading package punkt to\n",
      "[nltk_data]     C:\\Users\\User\\AppData\\Roaming\\nltk_data...\n",
      "[nltk_data]   Unzipping tokenizers\\punkt.zip.\n"
     ]
    },
    {
     "data": {
      "text/plain": [
       "True"
      ]
     },
     "execution_count": 17,
     "metadata": {},
     "output_type": "execute_result"
    }
   ],
   "source": [
    "##範例:聊天機器人(醫療諮詢)\n",
    "!pip install newspaper3k\n",
    "!pip install lxml\n",
    "!pip install lxml_html_clean\n",
    "\n",
    "\n",
    "from newspaper import Article \n",
    "import random \n",
    "import string\n",
    "import nltk\n",
    "\n",
    "from sklearn.feature_extraction.text import CountVectorizer \n",
    "from sklearn.metrics.pairwise import cosine_similarity\n",
    "import numpy as np \n",
    "import warnings\n",
    "warnings.filterwarnings('ignore')\n",
    "nltk.download('punkt')"
   ]
  },
  {
   "cell_type": "code",
   "execution_count": 23,
   "id": "084e64a4-eef3-4368-af8d-fe4f03ce7197",
   "metadata": {},
   "outputs": [],
   "source": [
    "article=Article('https://www.mayoclinic.org/diseases-conditions/chronic-kidney-disease/symptoms-causes/syc-20354521')\n",
    "article.download()\n",
    "article.parse()\n",
    "article.nlp()\n",
    "corpus=article.text \n",
    "text=corpus\n",
    "sentence_list=nltk.sent_tokenize(text)"
   ]
  },
  {
   "cell_type": "code",
   "execution_count": 31,
   "id": "d72e224a-136b-4634-b2f3-ccaad288dfdc",
   "metadata": {},
   "outputs": [],
   "source": [
    "def greeting_response(text):\n",
    "    text=text.lower()\n",
    "    bot_greetings=['howdy', 'hi', 'hey', 'hello', 'hola']\n",
    "    user_greetings ['hi', 'hey', 'hello', 'hola', 'greetings','wassup']\n",
    "    for word in text.split():\n",
    "        if word in user_greetings:\n",
    "            return random.choice(bot_greetings)\n",
    "\n",
    "def index_sort(list_var):\n",
    "    length=len(list_var)\n",
    "    list_index=list(range(0,length))\n",
    "    x=list_var\n",
    "    for i in range(length):\n",
    "        for j in range(length):\n",
    "            if x[list_index[i]]> x[list_index[j]]:\n",
    "                temp=list_index[i]\n",
    "                list_index[i]=list_index[j]\n",
    "                list_index[j]=temp\n",
    "\n",
    "    return list_index"
   ]
  },
  {
   "cell_type": "code",
   "execution_count": 50,
   "id": "6efacd0f-a48d-4b22-b921-0d26b02501b4",
   "metadata": {},
   "outputs": [],
   "source": [
    "def bot_response(user_input):\n",
    "    user_input=user_input.lower()\n",
    "    sentenee_list.append(user_input)\n",
    "    bot_response=''\n",
    "    cm=CountVectorizer().fit_transform(sentence_list)\n",
    "    similarity_scores=cosine_similarity(cm[-1],cm)\n",
    "    similarity_scores_list=similarity_scores.flatten()\n",
    "    index=index_sort(similarity_scores_list)\n",
    "    index=index[1:]\n",
    "    response_flag=0\n",
    "    j=0\n",
    "    for i in range(len(index)):\n",
    "        if similarity_scores_list[index[i]] > 0.0:\n",
    "            bot_response = bot_response + '' + sentence_list[index[i]]\n",
    "            response_flag = 1\n",
    "            j = j + 1\n",
    "            if j > 2:\n",
    "                break\n",
    "    \n",
    "    if response_flag == 0: \n",
    "        bot_response = bot_response + \"I apologize, I don't understand.\"\n",
    "    \n",
    "    sentence_list.remove(user_input)\n",
    "    return bot_response"
   ]
  },
  {
   "cell_type": "code",
   "execution_count": 54,
   "id": "10e385d0-2259-48a0-9bc9-4f33603a7199",
   "metadata": {},
   "outputs": [
    {
     "name": "stdout",
     "output_type": "stream",
     "text": [
      "Doc Bot: I am Doctor Bot. I will answer your queries about Chronic Kidney Disease. If you want to exit, type bye.\n"
     ]
    },
    {
     "name": "stdin",
     "output_type": "stream",
     "text": [
      " see you later\n"
     ]
    },
    {
     "name": "stdout",
     "output_type": "stream",
     "text": [
      "Doc Bot: Chat with you later!\n"
     ]
    }
   ],
   "source": [
    "print('Doc Bot: I am Doctor Bot. I will answer your queries about Chronic Kidney Disease. If you want to exit, type bye.')\n",
    "\n",
    "exit_list = ['exit', 'see you later', 'bye', 'quit', 'break']\n",
    "\n",
    "while True:\n",
    "    user_input = input()\n",
    "    if user_input.lower() in exit_list:\n",
    "        print('Doc Bot: Chat with you later!')\n",
    "        break\n",
    "    else:\n",
    "        if greeting_response(user_input) is not None:\n",
    "            print('Doc Bot: ' + greeting_response(user_input))\n",
    "        else:\n",
    "            print('Doc Bot: ' + bot_response(user_input))\n"
   ]
  },
  {
   "cell_type": "code",
   "execution_count": 58,
   "id": "baef9405-98c4-42c3-81eb-29b1b1e7e104",
   "metadata": {},
   "outputs": [
    {
     "name": "stdout",
     "output_type": "stream",
     "text": [
      "Collecting textblob\n",
      "  Downloading textblob-0.18.0.post0-py3-none-any.whl.metadata (4.5 kB)\n",
      "Requirement already satisfied: nltk>=3.8 in c:\\users\\user\\anaconda3\\lib\\site-packages (from textblob) (3.8.1)\n",
      "Requirement already satisfied: click in c:\\users\\user\\anaconda3\\lib\\site-packages (from nltk>=3.8->textblob) (8.1.7)\n",
      "Requirement already satisfied: joblib in c:\\users\\user\\anaconda3\\lib\\site-packages (from nltk>=3.8->textblob) (1.4.2)\n",
      "Requirement already satisfied: regex>=2021.8.3 in c:\\users\\user\\anaconda3\\lib\\site-packages (from nltk>=3.8->textblob) (2023.10.3)\n",
      "Requirement already satisfied: tqdm in c:\\users\\user\\anaconda3\\lib\\site-packages (from nltk>=3.8->textblob) (4.66.4)\n",
      "Requirement already satisfied: colorama in c:\\users\\user\\anaconda3\\lib\\site-packages (from click->nltk>=3.8->textblob) (0.4.6)\n",
      "Downloading textblob-0.18.0.post0-py3-none-any.whl (626 kB)\n",
      "   ---------------------------------------- 0.0/626.3 kB ? eta -:--:--\n",
      "    --------------------------------------- 10.2/626.3 kB ? eta -:--:--\n",
      "   -- ------------------------------------ 41.0/626.3 kB 653.6 kB/s eta 0:00:01\n",
      "   -- ------------------------------------ 41.0/626.3 kB 653.6 kB/s eta 0:00:01\n",
      "   ----------- ---------------------------- 174.1/626.3 kB 1.3 MB/s eta 0:00:01\n",
      "   --------------- ------------------------ 245.8/626.3 kB 1.2 MB/s eta 0:00:01\n",
      "   ------------------- -------------------- 307.2/626.3 kB 1.3 MB/s eta 0:00:01\n",
      "   ----------------------- ---------------- 368.6/626.3 kB 1.3 MB/s eta 0:00:01\n",
      "   ---------------------------- ----------- 450.6/626.3 kB 1.3 MB/s eta 0:00:01\n",
      "   -------------------------------- ------- 512.0/626.3 kB 1.3 MB/s eta 0:00:01\n",
      "   ------------------------------------- -- 593.9/626.3 kB 1.4 MB/s eta 0:00:01\n",
      "   ---------------------------------------- 626.3/626.3 kB 1.4 MB/s eta 0:00:00\n",
      "Installing collected packages: textblob\n",
      "Successfully installed textblob-0.18.0.post0\n",
      "Hello human, what is your name?\n"
     ]
    },
    {
     "name": "stdin",
     "output_type": "stream",
     "text": [
      " Andy\n"
     ]
    },
    {
     "name": "stdout",
     "output_type": "stream",
     "text": [
      "Do you have a nickname?\n"
     ]
    },
    {
     "name": "stdin",
     "output_type": "stream",
     "text": [
      " Annnnndy\n"
     ]
    },
    {
     "name": "stdout",
     "output_type": "stream",
     "text": [
      "I will call you Andyy\n"
     ]
    }
   ],
   "source": [
    "##程式:聊天機器人(情緒分析)\n",
    "import random\n",
    "!pip install textblob\n",
    "from textblob import TextBlob\n",
    "\n",
    "print('Hello human, what is your name?')\n",
    "name = input()\n",
    "print('Do you have a nickname?')\n",
    "ans = input()\n",
    "\n",
    "if ans.lower() == 'yes' or ans.lower() == 'y':\n",
    "    nickname = input('What is your nickname: ')\n",
    "    print(\"Good to meet you, \" + nickname)\n",
    "else:\n",
    "    nickname = name + 'y'\n",
    "    print(\"I will call you \" + nickname)\n"
   ]
  },
  {
   "cell_type": "code",
   "execution_count": 60,
   "id": "1b88ede7-a873-427a-ac83-30a99e6ad8ff",
   "metadata": {},
   "outputs": [
    {
     "name": "stdout",
     "output_type": "stream",
     "text": [
      "Greetings Andyy, are you well?\n"
     ]
    }
   ],
   "source": [
    "questions = [\n",
    "    'So ' + nickname + ', how are you today?',\n",
    "    'Howdy ' + nickname + ', how are you feeling?',\n",
    "    \"What's up \" + nickname + '?',\n",
    "    'Greetings ' + nickname + ', are you well?',\n",
    "    'How are things going ' + nickname + '?'\n",
    "]\n",
    "\n",
    "print(random.choice(questions))"
   ]
  },
  {
   "cell_type": "code",
   "execution_count": 62,
   "id": "5e97ed7d-3bdc-4e77-a0dc-b9bfce8a61dc",
   "metadata": {},
   "outputs": [
    {
     "name": "stdin",
     "output_type": "stream",
     "text": [
      " I am good!\n"
     ]
    },
    {
     "name": "stdout",
     "output_type": "stream",
     "text": [
      "I am glad!\n"
     ]
    }
   ],
   "source": [
    "ans = input()\n",
    "ans = ans.lower()\n",
    "\n",
    "if 'great' in ans or 'good' in ans or 'well' in ans or 'amazing' in ans:\n",
    "    print(\"I am glad!\")\n",
    "else:\n",
    "    print(\"Oh, sorry to hear that.\")\n"
   ]
  },
  {
   "cell_type": "code",
   "execution_count": 64,
   "id": "6ba93f6d-a4fd-4570-9291-2496861d247e",
   "metadata": {},
   "outputs": [
    {
     "name": "stdout",
     "output_type": "stream",
     "text": [
      "I would like your opinion on AFL?\n"
     ]
    },
    {
     "name": "stdin",
     "output_type": "stream",
     "text": [
      " Good\n"
     ]
    },
    {
     "name": "stdout",
     "output_type": "stream",
     "text": [
      "Wow, you really love AFL\n",
      "and you are so biased.\n",
      "What do you think about Python?\n"
     ]
    },
    {
     "name": "stdin",
     "output_type": "stream",
     "text": [
      " nice\n"
     ]
    },
    {
     "name": "stdout",
     "output_type": "stream",
     "text": [
      "Wow, you really love Python\n",
      "and you are so biased.\n"
     ]
    }
   ],
   "source": [
    "topics = ['football', 'Taipei', 'AFL', 'Endgame', 'Python', 'Computers', 'Computer games']\n",
    "questions = [\n",
    "    \"What is your take on \",\n",
    "    \"What do you think about \",\n",
    "    \"How do you feel about \",\n",
    "    \"I would like your opinion on \"\n",
    "]\n",
    "\n",
    "for i in range(random.randint(2, 3)):\n",
    "    topic = random.choice(topics)\n",
    "    topics.remove(topic)\n",
    "    question = random.choice(questions)\n",
    "    questions.remove(question)\n",
    "    \n",
    "    print(question + topic + \"?\")\n",
    "    ans = input()\n",
    "    blob = TextBlob(ans)\n",
    "\n",
    "    if blob.polarity > 0.5:\n",
    "        print(\"Wow, you really love \" + topic)\n",
    "    elif blob.polarity > 0.1:\n",
    "        print(\"Cool, you like \" + topic)\n",
    "    elif blob.polarity < -0.5:\n",
    "        print(\"So you hate \" + topic)\n",
    "    elif blob.polarity < -0.1:\n",
    "        print(\"Hmm, not a fan of \" + topic)\n",
    "    else:\n",
    "        print(\"That is a very neutral view on \" + topic)\n",
    "\n",
    "    if blob.subjectivity > 0.6:\n",
    "        print(\"and you are so biased.\")\n",
    "    elif blob.subjectivity > 0.3:\n",
    "        print(\"and you are a bit biased.\")\n",
    "    else:\n",
    "        print(\"and quite objective.\")"
   ]
  },
  {
   "cell_type": "code",
   "execution_count": 66,
   "id": "dd9bcf92-0cf6-46d5-8e7f-fb3639a78347",
   "metadata": {},
   "outputs": [
    {
     "name": "stdout",
     "output_type": "stream",
     "text": [
      "Yaaaawn... I gotta go now...\n"
     ]
    }
   ],
   "source": [
    "Goodbyes = [\n",
    "    'Good talking to you, ' + nickname + '. I gotta go now.',\n",
    "    'OK, I am bored, I will go watch Netflix.',\n",
    "    'Bye bye my dear, I am out.',\n",
    "    'Yaaaawn... I gotta go now...',\n",
    "    'Catch you later, ' + nickname\n",
    "]\n",
    "\n",
    "print(random.choice(Goodbyes))"
   ]
  },
  {
   "cell_type": "code",
   "execution_count": 70,
   "id": "845bb8f1-76d3-4fa4-846f-f89f2465c3af",
   "metadata": {},
   "outputs": [
    {
     "name": "stdout",
     "output_type": "stream",
     "text": [
      "Collecting translate\n",
      "  Downloading translate-3.6.1-py2.py3-none-any.whl.metadata (7.7 kB)\n",
      "Requirement already satisfied: click in c:\\users\\user\\anaconda3\\lib\\site-packages (from translate) (8.1.7)\n",
      "Requirement already satisfied: lxml in c:\\users\\user\\anaconda3\\lib\\site-packages (from translate) (5.2.1)\n",
      "Requirement already satisfied: requests in c:\\users\\user\\anaconda3\\lib\\site-packages (from translate) (2.32.2)\n",
      "Collecting libretranslatepy==2.1.1 (from translate)\n",
      "  Downloading libretranslatepy-2.1.1-py3-none-any.whl.metadata (233 bytes)\n",
      "Requirement already satisfied: colorama in c:\\users\\user\\anaconda3\\lib\\site-packages (from click->translate) (0.4.6)\n",
      "Requirement already satisfied: charset-normalizer<4,>=2 in c:\\users\\user\\anaconda3\\lib\\site-packages (from requests->translate) (2.0.4)\n",
      "Requirement already satisfied: idna<4,>=2.5 in c:\\users\\user\\anaconda3\\lib\\site-packages (from requests->translate) (3.7)\n",
      "Requirement already satisfied: urllib3<3,>=1.21.1 in c:\\users\\user\\anaconda3\\lib\\site-packages (from requests->translate) (2.2.2)\n",
      "Requirement already satisfied: certifi>=2017.4.17 in c:\\users\\user\\anaconda3\\lib\\site-packages (from requests->translate) (2024.8.30)\n",
      "Downloading translate-3.6.1-py2.py3-none-any.whl (12 kB)\n",
      "Downloading libretranslatepy-2.1.1-py3-none-any.whl (3.2 kB)\n",
      "Installing collected packages: libretranslatepy, translate\n",
      "Successfully installed libretranslatepy-2.1.1 translate-3.6.1\n",
      "おはよう。\n"
     ]
    }
   ],
   "source": [
    "#程式:翻譯\n",
    "! pip install translate\n",
    "from translate import Translator\n",
    "translator = Translator(to_lang=\"ja\")\n",
    "translation = translator.translate(\"Good Morning!\")\n",
    "print(translation)\n"
   ]
  },
  {
   "cell_type": "code",
   "execution_count": 72,
   "id": "f38b245c-a53d-4eba-8c18-9143660a4928",
   "metadata": {},
   "outputs": [
    {
     "name": "stdout",
     "output_type": "stream",
     "text": [
      "Buenos días\n"
     ]
    }
   ],
   "source": [
    "translator = Translator(from_lang=\"ja\", to_lang=\"es\")\n",
    "translation = translator.translate(\"おはようございます\")\n",
    "print(translation)"
   ]
  },
  {
   "cell_type": "code",
   "execution_count": 90,
   "id": "14773b6d-deae-40bf-b321-5839e610ce0c",
   "metadata": {},
   "outputs": [
    {
     "name": "stdout",
     "output_type": "stream",
     "text": [
      "Requirement already satisfied: torch in c:\\users\\user\\anaconda3\\lib\\site-packages (2.5.1)\n",
      "Requirement already satisfied: filelock in c:\\users\\user\\anaconda3\\lib\\site-packages (from torch) (3.13.1)\n",
      "Requirement already satisfied: typing-extensions>=4.8.0 in c:\\users\\user\\anaconda3\\lib\\site-packages (from torch) (4.11.0)\n",
      "Requirement already satisfied: networkx in c:\\users\\user\\anaconda3\\lib\\site-packages (from torch) (3.2.1)\n",
      "Requirement already satisfied: jinja2 in c:\\users\\user\\anaconda3\\lib\\site-packages (from torch) (3.1.4)\n",
      "Requirement already satisfied: fsspec in c:\\users\\user\\anaconda3\\lib\\site-packages (from torch) (2024.3.1)\n",
      "Requirement already satisfied: setuptools in c:\\users\\user\\anaconda3\\lib\\site-packages (from torch) (69.5.1)\n",
      "Requirement already satisfied: sympy==1.13.1 in c:\\users\\user\\anaconda3\\lib\\site-packages (from torch) (1.13.1)\n",
      "Requirement already satisfied: mpmath<1.4,>=1.1.0 in c:\\users\\user\\anaconda3\\lib\\site-packages (from sympy==1.13.1->torch) (1.3.0)\n",
      "Requirement already satisfied: MarkupSafe>=2.0 in c:\\users\\user\\anaconda3\\lib\\site-packages (from jinja2->torch) (2.1.3)\n",
      "Requirement already satisfied: transformers in c:\\users\\user\\anaconda3\\lib\\site-packages (4.46.2)\n",
      "Requirement already satisfied: filelock in c:\\users\\user\\anaconda3\\lib\\site-packages (from transformers) (3.13.1)\n",
      "Requirement already satisfied: huggingface-hub<1.0,>=0.23.2 in c:\\users\\user\\anaconda3\\lib\\site-packages (from transformers) (0.26.2)\n",
      "Requirement already satisfied: numpy>=1.17 in c:\\users\\user\\anaconda3\\lib\\site-packages (from transformers) (1.26.4)\n",
      "Requirement already satisfied: packaging>=20.0 in c:\\users\\user\\anaconda3\\lib\\site-packages (from transformers) (23.2)\n",
      "Requirement already satisfied: pyyaml>=5.1 in c:\\users\\user\\anaconda3\\lib\\site-packages (from transformers) (6.0.1)\n",
      "Requirement already satisfied: regex!=2019.12.17 in c:\\users\\user\\anaconda3\\lib\\site-packages (from transformers) (2023.10.3)\n",
      "Requirement already satisfied: requests in c:\\users\\user\\anaconda3\\lib\\site-packages (from transformers) (2.32.2)\n",
      "Requirement already satisfied: safetensors>=0.4.1 in c:\\users\\user\\anaconda3\\lib\\site-packages (from transformers) (0.4.5)\n",
      "Requirement already satisfied: tokenizers<0.21,>=0.20 in c:\\users\\user\\anaconda3\\lib\\site-packages (from transformers) (0.20.3)\n",
      "Requirement already satisfied: tqdm>=4.27 in c:\\users\\user\\anaconda3\\lib\\site-packages (from transformers) (4.66.4)\n",
      "Requirement already satisfied: fsspec>=2023.5.0 in c:\\users\\user\\anaconda3\\lib\\site-packages (from huggingface-hub<1.0,>=0.23.2->transformers) (2024.3.1)\n",
      "Requirement already satisfied: typing-extensions>=3.7.4.3 in c:\\users\\user\\anaconda3\\lib\\site-packages (from huggingface-hub<1.0,>=0.23.2->transformers) (4.11.0)\n",
      "Requirement already satisfied: colorama in c:\\users\\user\\anaconda3\\lib\\site-packages (from tqdm>=4.27->transformers) (0.4.6)\n",
      "Requirement already satisfied: charset-normalizer<4,>=2 in c:\\users\\user\\anaconda3\\lib\\site-packages (from requests->transformers) (2.0.4)\n",
      "Requirement already satisfied: idna<4,>=2.5 in c:\\users\\user\\anaconda3\\lib\\site-packages (from requests->transformers) (3.7)\n",
      "Requirement already satisfied: urllib3<3,>=1.21.1 in c:\\users\\user\\anaconda3\\lib\\site-packages (from requests->transformers) (2.2.2)\n",
      "Requirement already satisfied: certifi>=2017.4.17 in c:\\users\\user\\anaconda3\\lib\\site-packages (from requests->transformers) (2024.8.30)\n",
      "the main island of Taiwan has an area of 35,808 square kilometres . it has mountain ranges dominating the easter two-thirds and plains in the western third . with 23.57 million inhabitants, Taiwan is among the most densely populated countries . the ROC took control of Taiwan on behalf of the world war ii Allies .\n"
     ]
    }
   ],
   "source": [
    "#程式:文章摘要\n",
    "!pip install torch\n",
    "!pip install transformers\n",
    "\n",
    "import torch\n",
    "from transformers import AutoTokenizer, AutoModelForSeq2SeqLM\n",
    "\n",
    "\n",
    "tokenizer = AutoTokenizer.from_pretrained('t5-base')\n",
    "model = AutoModelForSeq2SeqLM.from_pretrained('t5-base', return_dict=True)\n",
    "\n",
    "\n",
    "sequence = (\"\"\"Taiwan, officially the Republic of China, is a country in East Asia.\n",
    "Neighbouring countries include the People's Republic of China to the northwest, Japan to the northeast, and the Philippines to the south. The main island of Taiwan has an area of 35,808 square kilometres, with mountain ranges dominating the easter two-thirds and plains in the western third, where its highly urbanised population is concentrated. Taipei is the capital as well as the largest metropolitan area of Taiwan. Other major cities include New Taipei, Kaohsiung, Taichung, Tainan and Taoyuan. With 23.57 million inhabitants,\n",
    "Taiwan is among the most densely populated countries.\"\"\"\n",
    "\n",
    "\"\"\"Austronesian-speaking ancestors of Taiwanese indigenous peoples settled the island around 6,000 years ago. In the 174 century, large-scale Han Chinese immigration to westem Taiwan began under a Dutch colony and continued under the Kingdom of Tungning. The island was annexed in 1683 by the Qing dynasty of China, and ceded to the Empire of Japan in 1895. The Republic of China, which had overthrown the Qing in 1911, took control of Taiwan on behalf of the World War II Allies following the surrender of Japan in 1945. \n",
    "The resumption of the Chinese Civil War resulted in the ROC's loss of mainland China to forces of the Chinese Communist Party and retreat to Taiwan in 1949. Its effective jurisdiction has since been limited to Taiwan and numerous smaller islands.\"\"\"\n",
    "\n",
    "\"\"\"In the early 1960s, Taiwan entered a period of rapid economic growth and industrialisation called the Taiwan Miracle. In the late 1980s and early 1990s, the ROC transitioned from a one-party military dictatorship to a multi-party democracy with a semi-presidential system.\n",
    "Taiwan's export-oriented industrial economy is the 21*-largest in the world by nominal\n",
    "GDP, and 20*-largest by PPP measures, with major contributions from steel, machinery, electronics and chemicals manufacturing. Taiwan is a developed country, ranking 15* in GDP per capita. It is ranked highly in terms of political and civil liberties, education, health care and human development.\"\"\"\n",
    "\n",
    "\"\"\"The political status of Taiwan is contentious. The ROC no longer represents China as a member of the United Nations, after UN members voted in 1971 to recognize the PRC instead. Meanwhile, the ROC continued to claim to be the legitimate representative of China and its territory, although this has \n",
    "been downplayed since its democratization in the 1990s. Taiwan is claimed by the PRC, which refuses diplomatic relations with countries that recognise the ROC. Taiwan maintains official diplomatic relations with 14 out of 193 UN member states and the Holy See, though many others maintain unofficial diplomatic ties with Taiwan through representative offices and institutions that function as de facto embassies and consulates. International organisations in which the PRC participates either refuse to grant membership to Taiwan or allow it to participate only on a non-state basis under various names. Domestically, the major political contention is between parties favouring eventual Chinese unification and promoting a pan-Chinese identity contrasted with those aspiring to independence and promoting a Taiwanese identity, although both sides have moderated their positions to broaden their appeal.\"\"\"\n",
    ")\n",
    "\n",
    "\n",
    "inputs = tokenizer.encode(\"summarize: \" + sequence, return_tensors='pt', max_length=512, truncation=True)\n",
    "outputs = model.generate(inputs, max_length=150, min_length=80, length_penalty=5, num_beams=2)\n",
    "summary = tokenizer.decode(outputs[0], skip_special_tokens=True)\n",
    "print(summary)\n",
    "\n"
   ]
  },
  {
   "cell_type": "code",
   "execution_count": null,
   "id": "597f4ced-4b15-4fdb-b677-2a2c29989f5c",
   "metadata": {},
   "outputs": [],
   "source": []
  }
 ],
 "metadata": {
  "kernelspec": {
   "display_name": "Python 3 (ipykernel)",
   "language": "python",
   "name": "python3"
  },
  "language_info": {
   "codemirror_mode": {
    "name": "ipython",
    "version": 3
   },
   "file_extension": ".py",
   "mimetype": "text/x-python",
   "name": "python",
   "nbconvert_exporter": "python",
   "pygments_lexer": "ipython3",
   "version": "3.12.4"
  }
 },
 "nbformat": 4,
 "nbformat_minor": 5
}

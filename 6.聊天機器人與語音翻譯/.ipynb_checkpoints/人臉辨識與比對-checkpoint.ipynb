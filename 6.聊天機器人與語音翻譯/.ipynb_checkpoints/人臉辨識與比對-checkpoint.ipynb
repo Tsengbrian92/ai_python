{
 "cells": [
  {
   "cell_type": "code",
   "execution_count": null,
   "id": "1a86f8cd-66d6-4856-8601-84f2bd01b78e",
   "metadata": {},
   "outputs": [],
   "source": [
    "import face_recognition\n",
    "import matplotlib.pyplot as plt\n",
    "\n",
    "image = face_recognition.load_image_file(\"d:/picture/people.jpg\")\n",
    "\n",
    "face_locations = face_recognition.face_locations(image)\n",
    "\n",
    "plt.imshow(image)\n",
    "plt.axis(\"off\")\n",
    "plt.show()\n",
    "\n",
    "print(f\"There are {len(face_locations)} people in this image\")"
   ]
  }
 ],
 "metadata": {
  "kernelspec": {
   "display_name": "Python 3 (ipykernel)",
   "language": "python",
   "name": "python3"
  },
  "language_info": {
   "codemirror_mode": {
    "name": "ipython",
    "version": 3
   },
   "file_extension": ".py",
   "mimetype": "text/x-python",
   "name": "python",
   "nbconvert_exporter": "python",
   "pygments_lexer": "ipython3",
   "version": "3.12.3"
  }
 },
 "nbformat": 4,
 "nbformat_minor": 5
}
